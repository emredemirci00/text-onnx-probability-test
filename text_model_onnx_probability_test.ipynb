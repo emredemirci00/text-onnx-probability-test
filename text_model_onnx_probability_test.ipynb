{
  "nbformat": 4,
  "nbformat_minor": 0,
  "metadata": {
    "colab": {
      "name": "text-model-onnx-probability-test.ipynb",
      "provenance": []
    },
    "kernelspec": {
      "name": "python3",
      "display_name": "Python 3"
    },
    "language_info": {
      "name": "python"
    }
  },
  "cells": [
    {
      "cell_type": "code",
      "execution_count": 1,
      "metadata": {
        "colab": {
          "base_uri": "https://localhost:8080/"
        },
        "id": "EUrP1epFeobe",
        "outputId": "bb4708d0-847f-4a12-c30a-995a9da9b06e"
      },
      "outputs": [
        {
          "output_type": "stream",
          "name": "stdout",
          "text": [
            "Mounted at /content/drive\n"
          ]
        }
      ],
      "source": [
        "from google.colab import drive\n",
        "drive.mount('/content/drive')"
      ]
    },
    {
      "cell_type": "code",
      "source": [
        "# install necessary libraries\n",
        "!pip install onnxruntime\n",
        "!pip install onnx\n",
        "!pip3 install ktrain==0.26.4\n",
        "!pip install tf2onnx\n",
        "!pip install torch==1.5.0\n",
        "!pip install transformers=='3.0.2'"
      ],
      "metadata": {
        "id": "WF6SCH8Ufni0"
      },
      "execution_count": null,
      "outputs": []
    },
    {
      "cell_type": "code",
      "source": [
        "!pip install 'h5py==2.10.0'"
      ],
      "metadata": {
        "colab": {
          "base_uri": "https://localhost:8080/"
        },
        "id": "nlhomGcFfpQq",
        "outputId": "5c44102c-0945-4834-981e-95c54c2af22e"
      },
      "execution_count": 3,
      "outputs": [
        {
          "output_type": "stream",
          "name": "stdout",
          "text": [
            "Looking in indexes: https://pypi.org/simple, https://us-python.pkg.dev/colab-wheels/public/simple/\n",
            "Collecting h5py==2.10.0\n",
            "  Downloading h5py-2.10.0-cp37-cp37m-manylinux1_x86_64.whl (2.9 MB)\n",
            "\u001b[K     |████████████████████████████████| 2.9 MB 4.1 MB/s \n",
            "\u001b[?25hRequirement already satisfied: numpy>=1.7 in /usr/local/lib/python3.7/dist-packages (from h5py==2.10.0) (1.21.6)\n",
            "Requirement already satisfied: six in /usr/local/lib/python3.7/dist-packages (from h5py==2.10.0) (1.15.0)\n",
            "Installing collected packages: h5py\n",
            "  Attempting uninstall: h5py\n",
            "    Found existing installation: h5py 3.1.0\n",
            "    Uninstalling h5py-3.1.0:\n",
            "      Successfully uninstalled h5py-3.1.0\n",
            "Successfully installed h5py-2.10.0\n"
          ]
        }
      ]
    },
    {
      "cell_type": "code",
      "source": [
        "import onnxruntime\n",
        "import numpy\n",
        "import onnx\n",
        "import tensorflow\n",
        "import ktrain\n",
        "from tensorflow.python.keras.models import load_model\n",
        "import tf2onnx\n",
        "import time\n",
        "import numpy as np\n",
        "import torch\n",
        "from transformers import AutoTokenizer\n",
        "from transformers.convert_graph_to_onnx import convert\n",
        "from transformers import AutoModelForSequenceClassification\n",
        "from pathlib import Path\n",
        "from transformers import AutoTokenizer\n",
        "import transformers\n",
        "from scipy.special import softmax\n",
        "import pandas as pd\n",
        "transformers.__version__"
      ],
      "metadata": {
        "colab": {
          "base_uri": "https://localhost:8080/",
          "height": 35
        },
        "id": "MGiBFfWcfswz",
        "outputId": "2e179639-8373-409e-af43-b61cc0b0a74d"
      },
      "execution_count": 7,
      "outputs": [
        {
          "output_type": "execute_result",
          "data": {
            "text/plain": [
              "'3.0.2'"
            ],
            "application/vnd.google.colaboratory.intrinsic+json": {
              "type": "string"
            }
          },
          "metadata": {},
          "execution_count": 7
        }
      ]
    },
    {
      "cell_type": "code",
      "source": [
        "# create ONNX session\n",
        "def create_onnx_session(onnx_model_path, provider='CPUExecutionProvider'):\n",
        "    \"\"\"\n",
        "    Creates ONNX inference session from provided onnx_model_path\n",
        "    \"\"\"\n",
        "\n",
        "    from onnxruntime import GraphOptimizationLevel, InferenceSession, SessionOptions, get_all_providers\n",
        "    assert provider in get_all_providers(), f\"provider {provider} not found, {get_all_providers()}\"\n",
        "\n",
        "    # Few properties that might have an impact on performances (provided by MS)\n",
        "    options = SessionOptions()\n",
        "    options.intra_op_num_threads = 0\n",
        "    options.graph_optimization_level = GraphOptimizationLevel.ORT_ENABLE_ALL\n",
        "\n",
        "    # Load the model as a graph and prepare the CPU backend \n",
        "    session = InferenceSession(onnx_model_path, options, providers=[provider])\n",
        "    session.disable_fallback()\n",
        "    return session"
      ],
      "metadata": {
        "id": "KhXKc4lXfvos"
      },
      "execution_count": 5,
      "outputs": []
    },
    {
      "cell_type": "code",
      "source": [
        "\n",
        "data_of_comments = pd.read_csv('/content/drive/MyDrive/text_model_new/test_data_20220622_new.csv')"
      ],
      "metadata": {
        "id": "4LXorOjngmYQ"
      },
      "execution_count": 8,
      "outputs": []
    },
    {
      "cell_type": "code",
      "source": [
        "data_of_comments[:1000]"
      ],
      "metadata": {
        "colab": {
          "base_uri": "https://localhost:8080/",
          "height": 423
        },
        "id": "xKIWzIvYhzAT",
        "outputId": "c961e788-65af-4ada-8f5d-d611196458e6"
      },
      "execution_count": 10,
      "outputs": [
        {
          "output_type": "execute_result",
          "data": {
            "text/plain": [
              "            email_id          form_id     label  \\\n",
              "0    220935602755053  220953569817367  non-spam   \n",
              "1    220953875103052  220953569817367  non-spam   \n",
              "2    220998961775072  220997937489884  non-spam   \n",
              "3    221377948321056  220997937489884  non-spam   \n",
              "4    221377443822052  220997937489884  non-spam   \n",
              "..               ...              ...       ...   \n",
              "995  212897299265069  212687536375163  non-spam   \n",
              "996  221725974496065  212687536375163  non-spam   \n",
              "997  221725984695067  212687536375163  non-spam   \n",
              "998  211587014357051  210063238869863  non-spam   \n",
              "999  211587021457050  210063238869863  non-spam   \n",
              "\n",
              "                                     emails_text_clean  \n",
              "0    new request offer offer fire brigade unit webs...  \n",
              "1    offer fuchs fire brigade hello, wanted introdu...  \n",
              "2    prepared report date shift day week type shift...  \n",
              "3    prepared report date shift day week type shift...  \n",
              "4    prepared report date shift day week type shift...  \n",
              "..                                                 ...  \n",
              "995                              vaccine schedule form  \n",
              "996  received appointment appointment thank schedul...  \n",
              "997                              vaccine schedule form  \n",
              "998  beef mince 1kg beef mince 500g pork mince 500g...  \n",
              "999  received response beef mince 1kg beef mince 50...  \n",
              "\n",
              "[1000 rows x 4 columns]"
            ],
            "text/html": [
              "\n",
              "  <div id=\"df-f2a93f5c-087c-4896-8e63-51ec9f908e2e\">\n",
              "    <div class=\"colab-df-container\">\n",
              "      <div>\n",
              "<style scoped>\n",
              "    .dataframe tbody tr th:only-of-type {\n",
              "        vertical-align: middle;\n",
              "    }\n",
              "\n",
              "    .dataframe tbody tr th {\n",
              "        vertical-align: top;\n",
              "    }\n",
              "\n",
              "    .dataframe thead th {\n",
              "        text-align: right;\n",
              "    }\n",
              "</style>\n",
              "<table border=\"1\" class=\"dataframe\">\n",
              "  <thead>\n",
              "    <tr style=\"text-align: right;\">\n",
              "      <th></th>\n",
              "      <th>email_id</th>\n",
              "      <th>form_id</th>\n",
              "      <th>label</th>\n",
              "      <th>emails_text_clean</th>\n",
              "    </tr>\n",
              "  </thead>\n",
              "  <tbody>\n",
              "    <tr>\n",
              "      <th>0</th>\n",
              "      <td>220935602755053</td>\n",
              "      <td>220953569817367</td>\n",
              "      <td>non-spam</td>\n",
              "      <td>new request offer offer fire brigade unit webs...</td>\n",
              "    </tr>\n",
              "    <tr>\n",
              "      <th>1</th>\n",
              "      <td>220953875103052</td>\n",
              "      <td>220953569817367</td>\n",
              "      <td>non-spam</td>\n",
              "      <td>offer fuchs fire brigade hello, wanted introdu...</td>\n",
              "    </tr>\n",
              "    <tr>\n",
              "      <th>2</th>\n",
              "      <td>220998961775072</td>\n",
              "      <td>220997937489884</td>\n",
              "      <td>non-spam</td>\n",
              "      <td>prepared report date shift day week type shift...</td>\n",
              "    </tr>\n",
              "    <tr>\n",
              "      <th>3</th>\n",
              "      <td>221377948321056</td>\n",
              "      <td>220997937489884</td>\n",
              "      <td>non-spam</td>\n",
              "      <td>prepared report date shift day week type shift...</td>\n",
              "    </tr>\n",
              "    <tr>\n",
              "      <th>4</th>\n",
              "      <td>221377443822052</td>\n",
              "      <td>220997937489884</td>\n",
              "      <td>non-spam</td>\n",
              "      <td>prepared report date shift day week type shift...</td>\n",
              "    </tr>\n",
              "    <tr>\n",
              "      <th>...</th>\n",
              "      <td>...</td>\n",
              "      <td>...</td>\n",
              "      <td>...</td>\n",
              "      <td>...</td>\n",
              "    </tr>\n",
              "    <tr>\n",
              "      <th>995</th>\n",
              "      <td>212897299265069</td>\n",
              "      <td>212687536375163</td>\n",
              "      <td>non-spam</td>\n",
              "      <td>vaccine schedule form</td>\n",
              "    </tr>\n",
              "    <tr>\n",
              "      <th>996</th>\n",
              "      <td>221725974496065</td>\n",
              "      <td>212687536375163</td>\n",
              "      <td>non-spam</td>\n",
              "      <td>received appointment appointment thank schedul...</td>\n",
              "    </tr>\n",
              "    <tr>\n",
              "      <th>997</th>\n",
              "      <td>221725984695067</td>\n",
              "      <td>212687536375163</td>\n",
              "      <td>non-spam</td>\n",
              "      <td>vaccine schedule form</td>\n",
              "    </tr>\n",
              "    <tr>\n",
              "      <th>998</th>\n",
              "      <td>211587014357051</td>\n",
              "      <td>210063238869863</td>\n",
              "      <td>non-spam</td>\n",
              "      <td>beef mince 1kg beef mince 500g pork mince 500g...</td>\n",
              "    </tr>\n",
              "    <tr>\n",
              "      <th>999</th>\n",
              "      <td>211587021457050</td>\n",
              "      <td>210063238869863</td>\n",
              "      <td>non-spam</td>\n",
              "      <td>received response beef mince 1kg beef mince 50...</td>\n",
              "    </tr>\n",
              "  </tbody>\n",
              "</table>\n",
              "<p>1000 rows × 4 columns</p>\n",
              "</div>\n",
              "      <button class=\"colab-df-convert\" onclick=\"convertToInteractive('df-f2a93f5c-087c-4896-8e63-51ec9f908e2e')\"\n",
              "              title=\"Convert this dataframe to an interactive table.\"\n",
              "              style=\"display:none;\">\n",
              "        \n",
              "  <svg xmlns=\"http://www.w3.org/2000/svg\" height=\"24px\"viewBox=\"0 0 24 24\"\n",
              "       width=\"24px\">\n",
              "    <path d=\"M0 0h24v24H0V0z\" fill=\"none\"/>\n",
              "    <path d=\"M18.56 5.44l.94 2.06.94-2.06 2.06-.94-2.06-.94-.94-2.06-.94 2.06-2.06.94zm-11 1L8.5 8.5l.94-2.06 2.06-.94-2.06-.94L8.5 2.5l-.94 2.06-2.06.94zm10 10l.94 2.06.94-2.06 2.06-.94-2.06-.94-.94-2.06-.94 2.06-2.06.94z\"/><path d=\"M17.41 7.96l-1.37-1.37c-.4-.4-.92-.59-1.43-.59-.52 0-1.04.2-1.43.59L10.3 9.45l-7.72 7.72c-.78.78-.78 2.05 0 2.83L4 21.41c.39.39.9.59 1.41.59.51 0 1.02-.2 1.41-.59l7.78-7.78 2.81-2.81c.8-.78.8-2.07 0-2.86zM5.41 20L4 18.59l7.72-7.72 1.47 1.35L5.41 20z\"/>\n",
              "  </svg>\n",
              "      </button>\n",
              "      \n",
              "  <style>\n",
              "    .colab-df-container {\n",
              "      display:flex;\n",
              "      flex-wrap:wrap;\n",
              "      gap: 12px;\n",
              "    }\n",
              "\n",
              "    .colab-df-convert {\n",
              "      background-color: #E8F0FE;\n",
              "      border: none;\n",
              "      border-radius: 50%;\n",
              "      cursor: pointer;\n",
              "      display: none;\n",
              "      fill: #1967D2;\n",
              "      height: 32px;\n",
              "      padding: 0 0 0 0;\n",
              "      width: 32px;\n",
              "    }\n",
              "\n",
              "    .colab-df-convert:hover {\n",
              "      background-color: #E2EBFA;\n",
              "      box-shadow: 0px 1px 2px rgba(60, 64, 67, 0.3), 0px 1px 3px 1px rgba(60, 64, 67, 0.15);\n",
              "      fill: #174EA6;\n",
              "    }\n",
              "\n",
              "    [theme=dark] .colab-df-convert {\n",
              "      background-color: #3B4455;\n",
              "      fill: #D2E3FC;\n",
              "    }\n",
              "\n",
              "    [theme=dark] .colab-df-convert:hover {\n",
              "      background-color: #434B5C;\n",
              "      box-shadow: 0px 1px 3px 1px rgba(0, 0, 0, 0.15);\n",
              "      filter: drop-shadow(0px 1px 2px rgba(0, 0, 0, 0.3));\n",
              "      fill: #FFFFFF;\n",
              "    }\n",
              "  </style>\n",
              "\n",
              "      <script>\n",
              "        const buttonEl =\n",
              "          document.querySelector('#df-f2a93f5c-087c-4896-8e63-51ec9f908e2e button.colab-df-convert');\n",
              "        buttonEl.style.display =\n",
              "          google.colab.kernel.accessAllowed ? 'block' : 'none';\n",
              "\n",
              "        async function convertToInteractive(key) {\n",
              "          const element = document.querySelector('#df-f2a93f5c-087c-4896-8e63-51ec9f908e2e');\n",
              "          const dataTable =\n",
              "            await google.colab.kernel.invokeFunction('convertToInteractive',\n",
              "                                                     [key], {});\n",
              "          if (!dataTable) return;\n",
              "\n",
              "          const docLinkHtml = 'Like what you see? Visit the ' +\n",
              "            '<a target=\"_blank\" href=https://colab.research.google.com/notebooks/data_table.ipynb>data table notebook</a>'\n",
              "            + ' to learn more about interactive tables.';\n",
              "          element.innerHTML = '';\n",
              "          dataTable['output_type'] = 'display_data';\n",
              "          await google.colab.output.renderOutput(dataTable, element);\n",
              "          const docLink = document.createElement('div');\n",
              "          docLink.innerHTML = docLinkHtml;\n",
              "          element.appendChild(docLink);\n",
              "        }\n",
              "      </script>\n",
              "    </div>\n",
              "  </div>\n",
              "  "
            ]
          },
          "metadata": {},
          "execution_count": 10
        }
      ]
    },
    {
      "cell_type": "code",
      "source": [
        "docs = data_of_comments[:1000]['emails_text_clean'].values.tolist()"
      ],
      "metadata": {
        "id": "D5CdC_3UiCEU"
      },
      "execution_count": 12,
      "outputs": []
    },
    {
      "cell_type": "code",
      "source": [
        "docs"
      ],
      "metadata": {
        "id": "LN7I-tlniEDw"
      },
      "execution_count": null,
      "outputs": []
    },
    {
      "cell_type": "code",
      "source": [
        "predictor = ktrain.load_predictor('/content/drive/MyDrive/text_model_new')\n",
        "maxlen = predictor.preproc.maxlen\n",
        "class_names = predictor.preproc.get_classes()\n",
        "\n",
        "tokenizer = predictor.preproc.get_tokenizer()"
      ],
      "metadata": {
        "id": "7IIpXQc9iKcy"
      },
      "execution_count": 16,
      "outputs": []
    },
    {
      "cell_type": "code",
      "source": [
        "sess = create_onnx_session(\"/content/drive/MyDrive/text_model_new_pt_onnx/model.onnx\")\n",
        "input = 'Give me money immediate this is not a spam I repeat'\n",
        "tokens = tokenizer.encode_plus(input, max_length=maxlen, truncation=True)\n",
        "tokens = {name: np.atleast_2d(value) for name, value in tokens.items()}\n",
        "print()\n",
        "print()\n",
        "print(\"predicted class: %s\" % (class_names[np.argmax(sess.run(None, tokens)[0])]))\n",
        "softmax(sess.run(None,tokens)[0][0],axis=0)"
      ],
      "metadata": {
        "colab": {
          "base_uri": "https://localhost:8080/"
        },
        "id": "mOnw2aeNgvWM",
        "outputId": "23fde7e2-eea2-4316-df25-2ebac3ef129c"
      },
      "execution_count": 20,
      "outputs": [
        {
          "output_type": "stream",
          "name": "stdout",
          "text": [
            "\n",
            "\n",
            "predicted class: non-spam\n"
          ]
        },
        {
          "output_type": "execute_result",
          "data": {
            "text/plain": [
              "array([0.74765193, 0.25234812], dtype=float32)"
            ]
          },
          "metadata": {},
          "execution_count": 20
        }
      ]
    },
    {
      "cell_type": "code",
      "source": [
        "prob_checker = 0\n",
        "\n",
        "def isclose(a, b, rel_tol=1e-06, abs_tol=0.0):\n",
        "    return abs(a-b) <= max(rel_tol * max(abs(a), abs(b)), abs_tol)\n",
        "\n",
        "\n",
        "for i in docs:\n",
        "  tokens = tokenizer(str(i), max_length=maxlen, truncation=True)\n",
        "  tokens = {name: np.atleast_2d(value) for name, value in tokens.items()}\n",
        "  prob_onnx = softmax(sess.run(None,tokens)[0][0],axis=0)\n",
        "  prob_predictor = predictor.predict_proba(str(i))\n",
        "  #For one test case checking both non spam and spam probabilities \n",
        "  if isclose(prob_onnx[0], prob_predictor[0]) and isclose(prob_onnx[1],prob_predictor[1]) == False:\n",
        "    prob_checker = prob_checker + 1\n",
        "print(prob_checker)\n"
      ],
      "metadata": {
        "colab": {
          "base_uri": "https://localhost:8080/"
        },
        "id": "V654KTaEityM",
        "outputId": "0ed9d4b2-363e-453a-f543-f6cd77151bc3"
      },
      "execution_count": 57,
      "outputs": [
        {
          "output_type": "stream",
          "name": "stdout",
          "text": [
            "381\n"
          ]
        }
      ]
    },
    {
      "cell_type": "code",
      "source": [
        "#For industry classifier\n",
        "predictor = ktrain.load_predictor('/content/drive/MyDrive/predictor_industry_classifier_en')\n",
        "maxlen = predictor.preproc.maxlen\n",
        "class_names = predictor.preproc.get_classes()\n",
        "\n",
        "tokenizer = predictor.preproc.get_tokenizer()\n",
        "\n",
        "sess = create_onnx_session(\"/content/drive/MyDrive/predictor_industry_classifier_en_pt_onnx/model.onnx\")\n",
        "input = 'Give me money immediate this is not a spam I repeat'\n",
        "tokens = tokenizer.encode_plus(input, max_length=maxlen, truncation=True)\n",
        "tokens = {name: np.atleast_2d(value) for name, value in tokens.items()}\n",
        "print()\n",
        "print()\n",
        "print(\"predicted class: %s\" % (class_names[np.argmax(sess.run(None, tokens)[0])]))\n",
        "softmax(sess.run(None,tokens)[0][0],axis=0)"
      ],
      "metadata": {
        "colab": {
          "base_uri": "https://localhost:8080/"
        },
        "id": "GvcdjJn9o86Y",
        "outputId": "cc51b690-5cc0-4f30-ca2f-9fb98f02f796"
      },
      "execution_count": 60,
      "outputs": [
        {
          "output_type": "stream",
          "name": "stdout",
          "text": [
            "\n",
            "\n",
            "predicted class: finance\n"
          ]
        },
        {
          "output_type": "execute_result",
          "data": {
            "text/plain": [
              "array([9.46349872e-04, 1.17478266e-01, 3.10752948e-04, 1.58711697e-03,\n",
              "       5.70726581e-02, 3.63836326e-02, 4.30284161e-03, 6.76229969e-03,\n",
              "       9.60936025e-03, 7.24439695e-02, 1.19183604e-02, 6.21610496e-04,\n",
              "       4.81261814e-04, 1.21628563e-03, 1.36218695e-02, 3.51311988e-03,\n",
              "       4.03294802e-01, 1.52058117e-02, 2.34996304e-02, 2.26859981e-03,\n",
              "       6.05523260e-03, 2.38949563e-02, 1.89840570e-02, 2.70192511e-03,\n",
              "       3.87911289e-03, 9.25440714e-03, 2.63591185e-02, 1.02634041e-03,\n",
              "       4.95999530e-02, 3.83295827e-02, 1.28953038e-02, 1.42912557e-02,\n",
              "       9.72527545e-03, 4.64917423e-04], dtype=float32)"
            ]
          },
          "metadata": {},
          "execution_count": 60
        }
      ]
    },
    {
      "cell_type": "code",
      "source": [
        "predictor.predict_proba(input)"
      ],
      "metadata": {
        "colab": {
          "base_uri": "https://localhost:8080/"
        },
        "id": "URKyntoFpfkI",
        "outputId": "c3edf05f-337e-438c-c914-73faff23a156"
      },
      "execution_count": 61,
      "outputs": [
        {
          "output_type": "execute_result",
          "data": {
            "text/plain": [
              "array([9.4634912e-04, 1.1747824e-01, 3.1075210e-04, 1.5871144e-03,\n",
              "       5.7072677e-02, 3.6383603e-02, 4.3028360e-03, 6.7622946e-03,\n",
              "       9.6093649e-03, 7.2443932e-02, 1.1918369e-02, 6.2160945e-04,\n",
              "       4.8126193e-04, 1.2162864e-03, 1.3621866e-02, 3.5131169e-03,\n",
              "       4.0329477e-01, 1.5205789e-02, 2.3499614e-02, 2.2685956e-03,\n",
              "       6.0552340e-03, 2.3894954e-02, 1.8984035e-02, 2.7019233e-03,\n",
              "       3.8791064e-03, 9.2544071e-03, 2.6359122e-02, 1.0263387e-03,\n",
              "       4.9599975e-02, 3.8329627e-02, 1.2895300e-02, 1.4291244e-02,\n",
              "       9.7252885e-03, 4.6491533e-04], dtype=float32)"
            ]
          },
          "metadata": {},
          "execution_count": 61
        }
      ]
    },
    {
      "cell_type": "code",
      "source": [
        "softmax(sess.run(None,tokens)[0][0],axis=0).sum()"
      ],
      "metadata": {
        "colab": {
          "base_uri": "https://localhost:8080/"
        },
        "id": "FPqX1lespkPC",
        "outputId": "7f4893bb-f39f-4f50-9eac-1467c614057c"
      },
      "execution_count": 62,
      "outputs": [
        {
          "output_type": "execute_result",
          "data": {
            "text/plain": [
              "1.0000001"
            ]
          },
          "metadata": {},
          "execution_count": 62
        }
      ]
    },
    {
      "cell_type": "code",
      "source": [
        "predictor.predict_proba(input).sum()"
      ],
      "metadata": {
        "colab": {
          "base_uri": "https://localhost:8080/"
        },
        "id": "-kWsxW5XpvDu",
        "outputId": "0e7313e2-cbbb-4a54-b75e-1898372a0d2c"
      },
      "execution_count": 63,
      "outputs": [
        {
          "output_type": "execute_result",
          "data": {
            "text/plain": [
              "0.9999999"
            ]
          },
          "metadata": {},
          "execution_count": 63
        }
      ]
    },
    {
      "cell_type": "code",
      "source": [
        ""
      ],
      "metadata": {
        "id": "nDVm76CspyB4"
      },
      "execution_count": null,
      "outputs": []
    }
  ]
}